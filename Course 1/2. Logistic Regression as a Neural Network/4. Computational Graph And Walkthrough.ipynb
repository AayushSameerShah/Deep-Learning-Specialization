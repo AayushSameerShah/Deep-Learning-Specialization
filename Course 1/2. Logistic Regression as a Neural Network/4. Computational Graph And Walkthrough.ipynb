{
 "cells": [
  {
   "cell_type": "markdown",
   "id": "a86dbf9d-c19d-4739-8ddf-9751def2b1e3",
   "metadata": {},
   "source": [
    "# Here, we will do the derivations. Confidently. ✊🏻"
   ]
  },
  {
   "cell_type": "markdown",
   "id": "32950b67-13d2-4dd4-a3c0-3fb84bcca0a2",
   "metadata": {},
   "source": [
    "In the upcoming lectures -- we will be given the chance to do the same thing with **structured** steps -- but right now I am willing to do that thing in the old school way -- our way."
   ]
  },
  {
   "cell_type": "markdown",
   "id": "65813713-ad4f-4de9-b382-6dcd38960ad8",
   "metadata": {},
   "source": [
    "**Some things that need to keep in mind**:\n",
    "1. The derivative is a value -- calculated for a given variable for the given value.\n",
    "2. That's **how does B change when A change slightly when A = 2**. You know? So that **2** is important here. The slope can be different at other values."
   ]
  },
  {
   "cell_type": "code",
   "execution_count": 3,
   "id": "094c6f17-8d5f-4df9-8a7d-e4b74db90613",
   "metadata": {
    "tags": []
   },
   "outputs": [],
   "source": [
    "import numpy as np"
   ]
  },
  {
   "cell_type": "code",
   "execution_count": 4,
   "id": "210adb7b-e402-401b-8da6-128a58b3fbb3",
   "metadata": {
    "tags": []
   },
   "outputs": [],
   "source": [
    "def compute_derivative(function: object, nudge_what: str, values: dict):\n",
    "    '''\n",
    "    At a time the function can tweak the single value\n",
    "    '''\n",
    "    tiny_nudge = 1e-8\n",
    "    old_result = function(**values)\n",
    "    print(f\"{values=}\", end=\"\")\n",
    "    values[nudge_what] += tiny_nudge\n",
    "    print(f\" | {values=}\")\n",
    "    \n",
    "    new_result = function(**values)\n",
    "    diff = new_result - old_result\n",
    "    \n",
    "    print(f\"{old_result=} | {new_result=}\\n\")\n",
    "    return diff / tiny_nudge"
   ]
  },
  {
   "cell_type": "markdown",
   "id": "2fabc06b-5735-454f-a23f-5797874e5a29",
   "metadata": {},
   "source": [
    "# 1️⃣ EXAMPLE: Simple"
   ]
  },
  {
   "cell_type": "markdown",
   "id": "fff4195f-8f15-42da-884a-ae1cb8e7f0c0",
   "metadata": {},
   "source": [
    "<img src=\"./images/computation-graph.png\">"
   ]
  },
  {
   "cell_type": "markdown",
   "id": "249e783a-2a22-4ccb-a69e-7ec652cc499b",
   "metadata": {},
   "source": [
    "## Starting from the back\n",
    "\n",
    "#### `1.` How does `J` change with `v`?"
   ]
  },
  {
   "cell_type": "code",
   "execution_count": 5,
   "id": "720a47e3-88fd-411b-b280-b8856ac66e10",
   "metadata": {
    "tags": []
   },
   "outputs": [],
   "source": [
    "def j(v):\n",
    "    return 3 * v"
   ]
  },
  {
   "cell_type": "code",
   "execution_count": 6,
   "id": "bca486c3-d5a9-48f4-8047-7a7d423e6022",
   "metadata": {
    "tags": []
   },
   "outputs": [
    {
     "name": "stdout",
     "output_type": "stream",
     "text": [
      "values={'v': 11} | values={'v': 11.00000001}\n",
      "old_result=33 | new_result=33.00000003\n",
      "\n"
     ]
    },
    {
     "data": {
      "text/plain": [
       "3.000000248221113"
      ]
     },
     "execution_count": 6,
     "metadata": {},
     "output_type": "execute_result"
    }
   ],
   "source": [
    "djdv = compute_derivative(j, \"v\", dict(v=11))\n",
    "djdv"
   ]
  },
  {
   "cell_type": "markdown",
   "id": "8aea4ce9-ccc8-40ba-a75d-79e30ce36e1a",
   "metadata": {},
   "source": [
    "👉🏻 The value slope of `j` for `v` is `3`."
   ]
  },
  {
   "cell_type": "markdown",
   "id": "8f4c54e8-adb2-466d-92c1-91f63ea71bd9",
   "metadata": {},
   "source": [
    "#### `2.` How does `J` change with `a`?"
   ]
  },
  {
   "cell_type": "code",
   "execution_count": 7,
   "id": "c4b124ef-cdf9-4f95-b918-81becc696ade",
   "metadata": {
    "tags": []
   },
   "outputs": [],
   "source": [
    "def v(a, u):\n",
    "    return a + u"
   ]
  },
  {
   "cell_type": "code",
   "execution_count": 8,
   "id": "1c7676bd-47ca-43c9-9387-b998c5b36f62",
   "metadata": {
    "tags": []
   },
   "outputs": [
    {
     "name": "stdout",
     "output_type": "stream",
     "text": [
      "values={'a': 5, 'u': 6} | values={'a': 5.00000001, 'u': 6}\n",
      "old_result=11 | new_result=11.00000001\n",
      "\n"
     ]
    },
    {
     "data": {
      "text/plain": [
       "1.000000082740371"
      ]
     },
     "execution_count": 8,
     "metadata": {},
     "output_type": "execute_result"
    }
   ],
   "source": [
    "dvda = compute_derivative(v, \"a\", dict(a=5, u=6))\n",
    "dvda"
   ]
  },
  {
   "cell_type": "markdown",
   "id": "cd689695-b3d2-44fb-b426-5fea679cb61a",
   "metadata": {},
   "source": [
    "⛓️‍ But the chain rule..."
   ]
  },
  {
   "cell_type": "code",
   "execution_count": 9,
   "id": "60f4dce7-007b-4077-b752-ed91aaea0100",
   "metadata": {
    "tags": []
   },
   "outputs": [
    {
     "data": {
      "text/plain": [
       "3.0000004964422464"
      ]
     },
     "execution_count": 9,
     "metadata": {},
     "output_type": "execute_result"
    }
   ],
   "source": [
    "djda = dvda * djdv\n",
    "djda"
   ]
  },
  {
   "cell_type": "markdown",
   "id": "3f3c28d8-7938-4ca2-b8f8-ca7a50f9addd",
   "metadata": {},
   "source": [
    "👉🏻 The value slope of `j` for `a` is `3`."
   ]
  },
  {
   "cell_type": "markdown",
   "id": "3a8c7158-4a32-4782-a830-6004f077e500",
   "metadata": {},
   "source": [
    "#### `3.` How does `J` change with `u`?"
   ]
  },
  {
   "cell_type": "code",
   "execution_count": 10,
   "id": "0cef2770-644c-40cd-ba49-323402827872",
   "metadata": {
    "tags": []
   },
   "outputs": [],
   "source": [
    "def v(a, u):\n",
    "    return a + u"
   ]
  },
  {
   "cell_type": "code",
   "execution_count": 11,
   "id": "87e98526-36e7-4e5f-8f6b-63bf1a09e3df",
   "metadata": {
    "tags": []
   },
   "outputs": [
    {
     "name": "stdout",
     "output_type": "stream",
     "text": [
      "values={'a': 5, 'u': 6} | values={'a': 5, 'u': 6.00000001}\n",
      "old_result=11 | new_result=11.00000001\n",
      "\n"
     ]
    },
    {
     "data": {
      "text/plain": [
       "1.000000082740371"
      ]
     },
     "execution_count": 11,
     "metadata": {},
     "output_type": "execute_result"
    }
   ],
   "source": [
    "dvdu = compute_derivative(v, \"u\", dict(a=5, u=6))\n",
    "dvdu"
   ]
  },
  {
   "cell_type": "markdown",
   "id": "0a0d0440-e2b7-4c6b-86be-b2f49ababab0",
   "metadata": {},
   "source": [
    "⛓️‍ But the chain rule..."
   ]
  },
  {
   "cell_type": "code",
   "execution_count": 12,
   "id": "c05e143a-ad88-4099-b1a8-fc827ff99732",
   "metadata": {
    "tags": []
   },
   "outputs": [
    {
     "data": {
      "text/plain": [
       "3.0000004964422464"
      ]
     },
     "execution_count": 12,
     "metadata": {},
     "output_type": "execute_result"
    }
   ],
   "source": [
    "djdu = dvdu * djdv\n",
    "djdu"
   ]
  },
  {
   "cell_type": "markdown",
   "id": "709949c7-2b24-4086-ae62-5c43582f32d1",
   "metadata": {},
   "source": [
    "👉🏻 The value slope of `j` for `u` is `3`."
   ]
  },
  {
   "cell_type": "markdown",
   "id": "a3a6c9ad-866d-45b2-93ee-12847ff7a728",
   "metadata": {},
   "source": [
    "#### `4.` How does `J` change with `b`?"
   ]
  },
  {
   "cell_type": "code",
   "execution_count": 13,
   "id": "f2a050b9-1f80-4cb5-9445-c26d0aa9e161",
   "metadata": {
    "tags": []
   },
   "outputs": [],
   "source": [
    "def u(b, c):\n",
    "    return b * c"
   ]
  },
  {
   "cell_type": "code",
   "execution_count": 14,
   "id": "b78e6e82-4e90-4ad6-b86e-f58be15a626e",
   "metadata": {
    "tags": []
   },
   "outputs": [
    {
     "name": "stdout",
     "output_type": "stream",
     "text": [
      "values={'b': 3, 'c': 2} | values={'b': 3.00000001, 'c': 2}\n",
      "old_result=6 | new_result=6.00000002\n",
      "\n"
     ]
    },
    {
     "data": {
      "text/plain": [
       "1.999999987845058"
      ]
     },
     "execution_count": 14,
     "metadata": {},
     "output_type": "execute_result"
    }
   ],
   "source": [
    "dudb = compute_derivative(u, \"b\", dict(b=3, c=2))\n",
    "dudb"
   ]
  },
  {
   "cell_type": "markdown",
   "id": "e92bc0a1-7eb4-4c41-9534-ea6ab04e0637",
   "metadata": {},
   "source": [
    "⛓️‍ But the chain rule..."
   ]
  },
  {
   "cell_type": "code",
   "execution_count": 15,
   "id": "fd4555d3-4a0c-46da-bb1c-678351d197f8",
   "metadata": {
    "tags": []
   },
   "outputs": [
    {
     "data": {
      "text/plain": [
       "6.0000004599773975"
      ]
     },
     "execution_count": 15,
     "metadata": {},
     "output_type": "execute_result"
    }
   ],
   "source": [
    "djdb = dudb * djdv\n",
    "djdb"
   ]
  },
  {
   "cell_type": "markdown",
   "id": "32d454db-8a98-4ca8-a6b6-f372588f4794",
   "metadata": {},
   "source": [
    "👉🏻 The value slope of `j` for `b` is `6`."
   ]
  },
  {
   "cell_type": "markdown",
   "id": "f486f3b6-e61f-4568-875d-702f1a99a150",
   "metadata": {},
   "source": [
    "#### `5.` How does `J` change with `b`?"
   ]
  },
  {
   "cell_type": "code",
   "execution_count": 16,
   "id": "1003d546-2b1f-4445-91a0-ccbcde73655a",
   "metadata": {
    "tags": []
   },
   "outputs": [],
   "source": [
    "def u(b, c):\n",
    "    return b * c"
   ]
  },
  {
   "cell_type": "code",
   "execution_count": 17,
   "id": "8a3e02e8-009b-4ea5-8935-4ea696298c3a",
   "metadata": {
    "tags": []
   },
   "outputs": [
    {
     "name": "stdout",
     "output_type": "stream",
     "text": [
      "values={'b': 3, 'c': 2} | values={'b': 3, 'c': 2.00000001}\n",
      "old_result=6 | new_result=6.00000003\n",
      "\n"
     ]
    },
    {
     "data": {
      "text/plain": [
       "2.999999981767587"
      ]
     },
     "execution_count": 17,
     "metadata": {},
     "output_type": "execute_result"
    }
   ],
   "source": [
    "dudc = compute_derivative(u, \"c\", dict(b=3, c=2))\n",
    "dudc"
   ]
  },
  {
   "cell_type": "markdown",
   "id": "cc02addd-d134-47c5-8e7c-9663d465492b",
   "metadata": {},
   "source": [
    "⛓️‍ But the chain rule..."
   ]
  },
  {
   "cell_type": "code",
   "execution_count": 18,
   "id": "f1f721a6-b6f2-4970-b47d-8c19e78c35bb",
   "metadata": {
    "tags": []
   },
   "outputs": [
    {
     "data": {
      "text/plain": [
       "9.000000689966095"
      ]
     },
     "execution_count": 18,
     "metadata": {},
     "output_type": "execute_result"
    }
   ],
   "source": [
    "djdc = dudc * djdv\n",
    "djdc"
   ]
  },
  {
   "cell_type": "markdown",
   "id": "dc9ff420-27a6-4cdf-8fdb-4accfb1a48c3",
   "metadata": {},
   "source": [
    "👉🏻 The value slope of `j` for `c` is `9`."
   ]
  },
  {
   "cell_type": "markdown",
   "id": "0818ca32-596c-4160-8bcd-35b386a94c47",
   "metadata": {},
   "source": [
    "# 2️⃣ EXAMPLE: LogReg"
   ]
  },
  {
   "cell_type": "markdown",
   "id": "93fac1ee-4695-4b31-8673-4c951cd69ed9",
   "metadata": {},
   "source": [
    "<img src=\"./images/log-reg-comp-graph.png\">"
   ]
  },
  {
   "cell_type": "markdown",
   "id": "6dbd8d70-bb10-488f-a59f-b314f66e8e8a",
   "metadata": {},
   "source": [
    "Here, we will take some example to make sure the numbers that andrew has written make sense. So the number example looks like this 👇🏻"
   ]
  },
  {
   "cell_type": "markdown",
   "id": "0119ef4a-1662-4bbb-b530-79a0f9c17d7c",
   "metadata": {},
   "source": [
    "<img src=\"./images/log-reg-comp-graph-annotated.png\">"
   ]
  },
  {
   "cell_type": "markdown",
   "id": "94794262-ae61-4563-9bbb-7632d0ca1ac4",
   "metadata": {},
   "source": [
    "#### `1.` (CODE) How does `L` change with `a`?"
   ]
  },
  {
   "cell_type": "code",
   "execution_count": 117,
   "id": "16401198-32be-457a-85e3-40964a74728c",
   "metadata": {
    "tags": []
   },
   "outputs": [],
   "source": [
    "def l(a, y):\n",
    "    '''\n",
    "    Simple and Straight forward -- but doesn't care about the dtype\n",
    "    '''\n",
    "    return - ((y * np.log(a)) + ((1 - y) * np.log(1 - a)))"
   ]
  },
  {
   "cell_type": "code",
   "execution_count": 118,
   "id": "9eadbd1d-eb4e-4e8e-a188-db68f8aa9876",
   "metadata": {
    "tags": []
   },
   "outputs": [],
   "source": [
    "def l(y, a, eps=None, dtype=np.float64):\n",
    "    '''\n",
    "    Same as above, but takes care of the edge cases\n",
    "    '''\n",
    "    # choose epsilon based on dtype to avoid 1 - eps == 1 for float32\n",
    "    if eps is None:\n",
    "        eps = np.finfo(dtype).eps  # machine epsilon for dtype\n",
    "    a = np.asarray(a, dtype=dtype)\n",
    "    y = np.asarray(y, dtype=dtype)\n",
    "    a = np.clip(a, eps, 1 - eps)   # keep in (0,1)\n",
    "    return -(y * np.log(a) + (1 - y) * np.log(1 - a))"
   ]
  },
  {
   "cell_type": "code",
   "execution_count": 119,
   "id": "f608a71f-912d-49a4-b8a4-b0af1c730b7c",
   "metadata": {
    "tags": []
   },
   "outputs": [
    {
     "name": "stdout",
     "output_type": "stream",
     "text": [
      "values={'a': 0.999, 'y': 1} | values={'a': 0.99900001, 'y': 1}\n",
      "old_result=0.0010005003335835344 | new_result=0.0010004903235735242\n",
      "\n"
     ]
    },
    {
     "data": {
      "text/plain": [
       "-1.0010010010122472"
      ]
     },
     "execution_count": 119,
     "metadata": {},
     "output_type": "execute_result"
    }
   ],
   "source": [
    "dlda = compute_derivative(l, \"a\", dict(a=0.999, y=1))\n",
    "dlda"
   ]
  },
  {
   "cell_type": "markdown",
   "id": "defef43d-d9c2-4432-b9cb-577b83d8bf7f",
   "metadata": {},
   "source": [
    "#### `1.` (ANALYTICAL) How does `L` change with `a`?\n",
    "\n",
    "```\n",
    "dlda = - (y / a) + ((1-y) / (1 - a))\n",
    "```"
   ]
  },
  {
   "cell_type": "code",
   "execution_count": 120,
   "id": "08597d5d-e0e4-47de-b2aa-71a0c6bcd7c6",
   "metadata": {
    "tags": []
   },
   "outputs": [
    {
     "data": {
      "text/plain": [
       "-1.001001001001001"
      ]
     },
     "execution_count": 120,
     "metadata": {},
     "output_type": "execute_result"
    }
   ],
   "source": [
    "a = 0.999\n",
    "y = 1\n",
    "- (y / a) + ((1-y) / (1 - a))"
   ]
  },
  {
   "cell_type": "markdown",
   "id": "8c6f498b-c30b-4f3d-8259-4fc197e86fc1",
   "metadata": {},
   "source": [
    "# "
   ]
  },
  {
   "cell_type": "markdown",
   "id": "44a6a1ea-d66d-4ed9-8f22-ac6a1d505d56",
   "metadata": {},
   "source": [
    "#### `2.` (CODE) How does `L` change with `z`?"
   ]
  },
  {
   "cell_type": "code",
   "execution_count": 121,
   "id": "c4bd9aa9-70fa-4b1d-848d-a2de631f0020",
   "metadata": {
    "tags": []
   },
   "outputs": [],
   "source": [
    "def sigma(z):\n",
    "    return  1 / (1 + np.exp(-z))"
   ]
  },
  {
   "cell_type": "code",
   "execution_count": 122,
   "id": "078e5a22-f1f3-4be4-867f-67e3de4ae0da",
   "metadata": {
    "tags": []
   },
   "outputs": [
    {
     "name": "stdout",
     "output_type": "stream",
     "text": [
      "values={'z': 15} | values={'z': 15.00000001}\n",
      "old_result=0.999999694097773 | new_result=0.9999996940977761\n",
      "\n"
     ]
    },
    {
     "data": {
      "text/plain": [
       "3.1086244689504383e-07"
      ]
     },
     "execution_count": 122,
     "metadata": {},
     "output_type": "execute_result"
    }
   ],
   "source": [
    "# how does `a` change with `z`?\n",
    "dadz = compute_derivative(sigma, \"z\", dict(z=15))\n",
    "dadz"
   ]
  },
  {
   "cell_type": "markdown",
   "id": "948a9764-0efd-4c8c-b091-a62c1342672d",
   "metadata": {},
   "source": [
    "#### `2.` (ANALYTICAL) How does `L` change with `z`?\n",
    "\n",
    "```\n",
    "dadz = a * ( 1 - a )\n",
    "```"
   ]
  },
  {
   "cell_type": "code",
   "execution_count": 123,
   "id": "8debcae5-b08b-4ac1-9dde-67d4c29c2166",
   "metadata": {
    "tags": []
   },
   "outputs": [
    {
     "data": {
      "text/plain": [
       "3.0590213341738715e-07"
      ]
     },
     "execution_count": 123,
     "metadata": {},
     "output_type": "execute_result"
    }
   ],
   "source": [
    "z = 15\n",
    "sigma(z) * (1 - sigma(z))"
   ]
  },
  {
   "cell_type": "code",
   "execution_count": 124,
   "id": "cdd686b8-6d60-4528-a718-ef41b543bebd",
   "metadata": {
    "tags": []
   },
   "outputs": [
    {
     "data": {
      "text/plain": [
       "-3.111736205190554e-07"
      ]
     },
     "execution_count": 124,
     "metadata": {},
     "output_type": "execute_result"
    }
   ],
   "source": [
    "# chain rule \n",
    "dldz = dadz * dlda\n",
    "dldz"
   ]
  },
  {
   "cell_type": "markdown",
   "id": "3794d96d-9fd4-426f-91cd-3fb35ecb024d",
   "metadata": {},
   "source": [
    "--OR--"
   ]
  },
  {
   "cell_type": "code",
   "execution_count": 127,
   "id": "22ddbd52-22d8-4e96-a6aa-645f889123e7",
   "metadata": {
    "tags": []
   },
   "outputs": [
    {
     "data": {
      "text/plain": [
       "-0.0010000000000000009"
      ]
     },
     "execution_count": 127,
     "metadata": {},
     "output_type": "execute_result"
    }
   ],
   "source": [
    "# which gives direct `dldz`\n",
    "a - y"
   ]
  },
  {
   "cell_type": "markdown",
   "id": "ede60c31-2e21-43dc-9443-7985de635ca1",
   "metadata": {},
   "source": [
    "# Done!\n",
    "I mean, then we can easily traverse the path till the `W1`, `W2` and `b`"
   ]
  }
 ],
 "metadata": {
  "kernelspec": {
   "display_name": "Python 3 (ipykernel)",
   "language": "python",
   "name": "python3"
  },
  "language_info": {
   "codemirror_mode": {
    "name": "ipython",
    "version": 3
   },
   "file_extension": ".py",
   "mimetype": "text/x-python",
   "name": "python",
   "nbconvert_exporter": "python",
   "pygments_lexer": "ipython3",
   "version": "3.11.7"
  }
 },
 "nbformat": 4,
 "nbformat_minor": 5
}
