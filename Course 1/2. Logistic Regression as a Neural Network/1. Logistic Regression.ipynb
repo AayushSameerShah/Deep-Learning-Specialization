{
 "cells": [
  {
   "cell_type": "markdown",
   "id": "5b4e4ff9-5ac0-492d-9209-d5f0b53e1991",
   "metadata": {},
   "source": [
    "# Logistic Regression Recap"
   ]
  },
  {
   "cell_type": "markdown",
   "id": "8cd93148-e916-4590-b3a5-e53dec119c8d",
   "metadata": {},
   "source": [
    "<img src=\"./images/log-simple.png\">"
   ]
  },
  {
   "cell_type": "markdown",
   "id": "f8ac62ca-2071-4f8a-adc4-ea6f3487e2e9",
   "metadata": {},
   "source": [
    "**Staring**:\n",
    "- From the first thing -- we **can** model this as a regression but that won't be a good model for classification.\n",
    "- <0 and >1 possible"
   ]
  },
  {
   "cell_type": "markdown",
   "id": "3d42979b-200a-41e5-b51e-daefbba6c901",
   "metadata": {},
   "source": [
    "<img src=\"./images/sigmoid.png\">"
   ]
  },
  {
   "cell_type": "markdown",
   "id": "8af7425b-ce8f-4860-a6ff-3c47aca1cccc",
   "metadata": {},
   "source": [
    "<img src=\"./images/linear-calculation.png\">"
   ]
  },
  {
   "cell_type": "markdown",
   "id": "bc1c42da-74f5-4337-b9e5-fa8a15db372d",
   "metadata": {},
   "source": [
    "# Loss Function"
   ]
  },
  {
   "cell_type": "markdown",
   "id": "4c1fbdb6-de59-4dd4-b4f1-ed0906ddf396",
   "metadata": {},
   "source": [
    "<img src=\"./images/loss-function.png\">"
   ]
  },
  {
   "cell_type": "markdown",
   "id": "15c6bb8c-9084-4f3f-ab58-da1daf047379",
   "metadata": {},
   "source": [
    "- We don't use the MSE as it will be non-convex.\n",
    "- Because Logistic uses **sigmoid** which doesn't have a linear graph. So, sigmoid is non-linear.\n",
    "- It won't let the MSE make the graph convex, and thus no local minima."
   ]
  },
  {
   "cell_type": "markdown",
   "id": "83619cf3-f4b8-4695-b2cb-4615702d6905",
   "metadata": {},
   "source": [
    "<img src=\"./images/log-loss.png\">"
   ]
  },
  {
   "cell_type": "markdown",
   "id": "2f35d88f-4ab5-44a6-aaf7-f0a06dbbb5e7",
   "metadata": {},
   "source": [
    "## LOSS FUNCTION = Single Training Example\n",
    "$$\n",
    "\\ell(\\hat{y}, y)\n",
    "$$\n",
    "\n",
    "## COST FUNCTION = Entire Training Dataset\n",
    "$$\n",
    "J(w, b) = \\frac{1}{m} \\sum_{i=1}^m \\ell(\\hat{y}^{(i)}, y^{(i)})\n",
    "$$\n"
   ]
  },
  {
   "cell_type": "markdown",
   "id": "180b106d-815d-4efb-a6c0-af318f9a5099",
   "metadata": {},
   "source": [
    "- So it doesn't matter what the **initalization values are** for `W` and `b` -- for the convex -- you will always get the result!"
   ]
  }
 ],
 "metadata": {
  "kernelspec": {
   "display_name": "Python 3 (ipykernel)",
   "language": "python",
   "name": "python3"
  },
  "language_info": {
   "codemirror_mode": {
    "name": "ipython",
    "version": 3
   },
   "file_extension": ".py",
   "mimetype": "text/x-python",
   "name": "python",
   "nbconvert_exporter": "python",
   "pygments_lexer": "ipython3",
   "version": "3.11.7"
  }
 },
 "nbformat": 4,
 "nbformat_minor": 5
}
