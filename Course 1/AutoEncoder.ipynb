{
 "cells": [
  {
   "cell_type": "markdown",
   "id": "29560c00-58d5-444e-abb0-31e2faf6d814",
   "metadata": {},
   "source": [
    "# Trying autoencoder\n",
    "This is the simple and sample code -- without any understanding of what the autoencoder does -- the implementation is a follows:\n",
    "\n",
    "1. It is used to \"compress\" the data\n",
    "2. Learn the \"underlying general\" carectersitics (fuck the spelling)\n",
    "3. And the decoder finally \"achieves\" re-constructs that.\n",
    "\n",
    "--- OH HELL --- Can we blur the text (encoder) and then retrieve it?"
   ]
  },
  {
   "cell_type": "code",
   "execution_count": 1,
   "id": "1c1119c0-5121-4f0b-b131-0bcaf5ab4e05",
   "metadata": {
    "tags": []
   },
   "outputs": [],
   "source": [
    "# pip install torch torchvision matplotlib  # if needed\n",
    "\n",
    "import os\n",
    "import torch\n",
    "import torch.nn as nn\n",
    "from torch.utils.data import DataLoader\n",
    "from torchvision import datasets, transforms\n",
    "import matplotlib.pyplot as plt"
   ]
  },
  {
   "cell_type": "code",
   "execution_count": 2,
   "id": "b0f471e0-3ee5-4902-b906-4af87aa1d110",
   "metadata": {
    "tags": []
   },
   "outputs": [
    {
     "name": "stdout",
     "output_type": "stream",
     "text": [
      "Using device: cuda\n"
     ]
    }
   ],
   "source": [
    "# ========== Device setup (GPU if available) ==========\n",
    "device = torch.device(\"cuda\" if torch.cuda.is_available() else \"cpu\")  # auto-pick CUDA[48][50]\n",
    "print(\"Using device:\", device)"
   ]
  },
  {
   "cell_type": "code",
   "execution_count": 3,
   "id": "8c0617b5-7170-4836-9114-2f4c18031e04",
   "metadata": {
    "tags": []
   },
   "outputs": [],
   "source": [
    "# ---------- Safe transform (no lambda -> pickleable) ----------\n",
    "def flatten_tensor(t):\n",
    "    return t.view(-1)"
   ]
  },
  {
   "cell_type": "code",
   "execution_count": 4,
   "id": "0733dab7-57d4-494a-b5bc-95560ae43dfa",
   "metadata": {
    "tags": []
   },
   "outputs": [],
   "source": [
    "transform = transforms.Compose([\n",
    "    transforms.ToTensor(),\n",
    "    transforms.Lambda(flatten_tensor),  # top-level function is pickle-safe[56]\n",
    "])"
   ]
  },
  {
   "cell_type": "code",
   "execution_count": 5,
   "id": "590ff0a6-1ec1-48f0-acee-ca6ce6a81361",
   "metadata": {
    "tags": []
   },
   "outputs": [],
   "source": [
    "# If pickling still complains on some setups, fallback:\n",
    "# set_workers = 0 to disable multiprocessing loaders[58]\n",
    "num_workers = 2 if torch.cuda.is_available() else 0"
   ]
  },
  {
   "cell_type": "code",
   "execution_count": 6,
   "id": "537d2069-17d9-498a-8814-25ffbd62c1b2",
   "metadata": {
    "tags": []
   },
   "outputs": [],
   "source": [
    "# ========== Data ==========\n",
    "# MNIST 28x28 -> flatten to 784 in [0,1]\n",
    "\n",
    "train_ds = datasets.MNIST(root=\"./data\", train=True, download=True, transform=transform)\n",
    "train_dl = DataLoader(train_ds, batch_size=256, shuffle=True, num_workers=0, pin_memory=False, persistent_workers=False)"
   ]
  },
  {
   "cell_type": "code",
   "execution_count": 10,
   "id": "3ff7c8c6-365b-4371-bceb-66fd9a98c78d",
   "metadata": {
    "tags": []
   },
   "outputs": [],
   "source": [
    "# ========== Model ==========\n",
    "class AutoEncoder(nn.Module):\n",
    "    def __init__(self, in_dim=784, latent=32, linear_hidden=False):\n",
    "        super().__init__()\n",
    "        act = nn.Identity if linear_hidden else nn.ReLU\n",
    "        self.encoder = nn.Sequential(\n",
    "            nn.Linear(in_dim, 256),\n",
    "            act(),\n",
    "            nn.Linear(256, latent),\n",
    "        )\n",
    "        self.decoder = nn.Sequential(\n",
    "            nn.Linear(latent, 256),\n",
    "            act(),\n",
    "            nn.Linear(256, in_dim),\n",
    "            nn.Sigmoid(),  # images in [0,1]\n",
    "        )\n",
    "    def forward(self, x):\n",
    "        z = self.encoder(x)\n",
    "        x_hat = self.decoder(z)\n",
    "        return x_hat, z"
   ]
  },
  {
   "cell_type": "code",
   "execution_count": 16,
   "id": "f481bff0-6c3b-4e43-839e-b57169bec819",
   "metadata": {
    "tags": []
   },
   "outputs": [],
   "source": [
    "model = AutoEncoder(latent=32, linear_hidden=True).to(device)  # push model to GPU/CPU[48][50]\n",
    "opt = torch.optim.Adam(model.parameters(), lr=1e-3)\n",
    "loss_fn = nn.MSELoss()"
   ]
  },
  {
   "cell_type": "code",
   "execution_count": 17,
   "id": "0dea77ac-2137-4ac7-8ce5-01f9a9a74cea",
   "metadata": {
    "tags": []
   },
   "outputs": [
    {
     "name": "stdout",
     "output_type": "stream",
     "text": [
      "epoch 1/5  loss 0.0502\n",
      "epoch 2/5  loss 0.0184\n",
      "epoch 3/5  loss 0.0133\n",
      "epoch 4/5  loss 0.0114\n",
      "epoch 5/5  loss 0.0105\n"
     ]
    }
   ],
   "source": [
    "# ========== Train ==========\n",
    "epochs = 5\n",
    "model.train()\n",
    "for epoch in range(epochs):\n",
    "    running = 0.0\n",
    "    for x, _ in train_dl:\n",
    "        # move batch to device\n",
    "        x = x.to(device, non_blocking=True)  # ensure data is on GPU[50]\n",
    "        x_hat, _ = model(x)\n",
    "        loss = loss_fn(x_hat, x)\n",
    "\n",
    "        opt.zero_grad(set_to_none=True)\n",
    "        loss.backward()\n",
    "        opt.step()\n",
    "\n",
    "        running += loss.item()\n",
    "    print(f\"epoch {epoch+1}/{epochs}  loss {running/len(train_dl):.4f}\")"
   ]
  },
  {
   "cell_type": "code",
   "execution_count": 18,
   "id": "0a5f4831-345b-40f4-b751-48db233313be",
   "metadata": {
    "tags": []
   },
   "outputs": [
    {
     "data": {
      "image/png": "[encoded data removed]",
      "text/plain": [
       "<Figure size 1280x320 with 16 Axes>"
      ]
     },
     "metadata": {},
     "output_type": "display_data"
    }
   ],
   "source": [
    "# ========== Visualize before vs after ==========\n",
    "model.eval()\n",
    "with torch.no_grad():\n",
    "    x, _ = next(iter(train_dl))\n",
    "    x = x.to(device, non_blocking=True)\n",
    "    x_hat, _ = model(x)\n",
    "\n",
    "# show N pairs side-by-side\n",
    "N = 8\n",
    "fig, axes = plt.subplots(2, N, figsize=(N*1.6, 3.2))\n",
    "for i in range(N):\n",
    "    axes[0, i].imshow(x[i].view(28, 28).detach().cpu().numpy(), cmap='gray', vmin=0, vmax=1)\n",
    "    axes[0, i].axis('off')\n",
    "    axes[1, i].imshow(x_hat[i].view(28, 28).detach().cpu().numpy(), cmap='gray', vmin=0, vmax=1)\n",
    "    axes[1, i].axis('off')\n",
    "axes[0, 0].set_ylabel('Original', fontsize=12)\n",
    "axes[1, 0].set_ylabel('Recon', fontsize=12)\n",
    "plt.tight_layout()\n",
    "plt.show()\n",
    "\n",
    "# ========== Extras ==========\n",
    "# Check CUDA details if curious:\n",
    "# print(torch.cuda.is_available())  # True if GPU usable[55]\n",
    "# print(torch.cuda.get_device_name(0) if torch.cuda.is_available() else \"CPU only\")  # GPU name[52]\n"
   ]
  },
  {
   "cell_type": "code",
   "execution_count": 25,
   "id": "c0db162f-fcf2-440f-908b-b846c87eaafd",
   "metadata": {
    "tags": []
   },
   "outputs": [],
   "source": [
    "#! pip install torchinfo"
   ]
  },
  {
   "cell_type": "code",
   "execution_count": 24,
   "id": "7ddb895f-2477-4c22-89a2-e483b22e14eb",
   "metadata": {
    "tags": []
   },
   "outputs": [],
   "source": [
    "from torchinfo import summary"
   ]
  },
  {
   "cell_type": "code",
   "execution_count": 25,
   "id": "df3a21bd-0b4b-4f4d-b6a4-ba32cb1de6b2",
   "metadata": {
    "tags": []
   },
   "outputs": [
    {
     "name": "stdout",
     "output_type": "stream",
     "text": [
      "==========================================================================================\n",
      "Layer (type:depth-idx)                   Output Shape              Param #\n",
      "==========================================================================================\n",
      "AutoEncoder                              [1, 784]                  --\n",
      "├─Sequential: 1-1                        [1, 8]                    --\n",
      "│    └─Linear: 2-1                       [1, 256]                  200,960\n",
      "│    └─ReLU: 2-2                         [1, 256]                  --\n",
      "│    └─Linear: 2-3                       [1, 8]                    2,056\n",
      "├─Sequential: 1-2                        [1, 784]                  --\n",
      "│    └─Linear: 2-4                       [1, 128]                  1,152\n",
      "│    └─Linear: 2-5                       [1, 256]                  33,024\n",
      "│    └─ReLU: 2-6                         [1, 256]                  --\n",
      "│    └─ReLU: 2-7                         [1, 256]                  --\n",
      "│    └─Linear: 2-8                       [1, 784]                  201,488\n",
      "│    └─Sigmoid: 2-9                      [1, 784]                  --\n",
      "==========================================================================================\n",
      "Total params: 438,680\n",
      "Trainable params: 438,680\n",
      "Non-trainable params: 0\n",
      "Total mult-adds (Units.MEGABYTES): 0.44\n",
      "==========================================================================================\n",
      "Input size (MB): 0.00\n",
      "Forward/backward pass size (MB): 0.01\n",
      "Params size (MB): 1.75\n",
      "Estimated Total Size (MB): 1.77\n",
      "==========================================================================================\n",
      "Total params: 438,680  |  Trainable: 438,680\n",
      "encoder.0.weight               (256, 784)  requires_grad=True\n",
      "encoder.0.bias                 (256,)  requires_grad=True\n",
      "encoder.2.weight               (8, 256)  requires_grad=True\n",
      "encoder.2.bias                 (8,)  requires_grad=True\n",
      "decoder.0.weight               (128, 8)  requires_grad=True\n",
      "decoder.0.bias                 (128,)  requires_grad=True\n",
      "decoder.1.weight               (256, 128)  requires_grad=True\n",
      "decoder.1.bias                 (256,)  requires_grad=True\n",
      "decoder.4.weight               (784, 256)  requires_grad=True\n",
      "decoder.4.bias                 (784,)  requires_grad=True\n"
     ]
    }
   ],
   "source": [
    "# assume `model` from previous cell and device set\n",
    "# 1) Model summary (like Keras)\n",
    "print(summary(model, input_size=(1, 784)))  # batch=1, flattened MNIST[78][80]\n",
    "\n",
    "# 2) Total/trainable parameter counts\n",
    "total = sum(p.numel() for p in model.parameters())\n",
    "trainable = sum(p.numel() for p in model.parameters() if p.requires_grad)\n",
    "print(f\"Total params: {total:,}  |  Trainable: {trainable:,}\")  # [75]\n",
    "\n",
    "# 3) List layer names with tensor shapes\n",
    "for name, p in model.named_parameters():  # names + shapes + grad flag[77]\n",
    "    print(f\"{name:30s} {tuple(p.shape)}  requires_grad={p.requires_grad}\")"
   ]
  },
  {
   "cell_type": "markdown",
   "id": "ef730f09-e175-484e-94bd-b443a60a5509",
   "metadata": {},
   "source": [
    "# "
   ]
  }
 ],
 "metadata": {
  "kernelspec": {
   "display_name": "Python 3 (ipykernel)",
   "language": "python",
   "name": "python3"
  },
  "language_info": {
   "codemirror_mode": {
    "name": "ipython",
    "version": 3
   },
   "file_extension": ".py",
   "mimetype": "text/x-python",
   "name": "python",
   "nbconvert_exporter": "python",
   "pygments_lexer": "ipython3",
   "version": "3.11.7"
  }
 },
 "nbformat": 4,
 "nbformat_minor": 5
}
