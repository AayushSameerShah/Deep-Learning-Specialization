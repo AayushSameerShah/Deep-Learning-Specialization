{
 "cells": [
  {
   "cell_type": "markdown",
   "id": "dd093768-a162-42f8-8111-fca7c17feaa7",
   "metadata": {},
   "source": [
    "# Logistic Regression loss check\n",
    "There are the times when I forget what is the loss function doing. Here, we will test that out."
   ]
  },
  {
   "cell_type": "code",
   "execution_count": 1,
   "id": "6c1a11ec-fc04-4532-9d4a-637072fd3d9d",
   "metadata": {
    "tags": []
   },
   "outputs": [],
   "source": [
    "import numpy as np"
   ]
  },
  {
   "cell_type": "code",
   "execution_count": 4,
   "id": "98d4426d-8306-4fe6-a7f8-13fbe20c8e55",
   "metadata": {
    "tags": []
   },
   "outputs": [],
   "source": [
    "loss = lambda y_true, y_hat: -(y_true*np.log(y_hat) + (1-y_true)*(np.log(1-y_hat)))"
   ]
  },
  {
   "cell_type": "code",
   "execution_count": 9,
   "id": "0351065d-a55b-432b-ba9d-83794e49b9a2",
   "metadata": {
    "tags": []
   },
   "outputs": [
    {
     "data": {
      "text/plain": [
       "4.605170185988091"
      ]
     },
     "execution_count": 9,
     "metadata": {},
     "output_type": "execute_result"
    }
   ],
   "source": [
    "y_true = 1\n",
    "y_hat = 0.01\n",
    "\n",
    "loss(y_true, y_hat)"
   ]
  },
  {
   "cell_type": "markdown",
   "id": "643d4656-4f73-4bd9-bdd3-c601e9fd8ea2",
   "metadata": {},
   "source": [
    "Play with it until you get it right!"
   ]
  }
 ],
 "metadata": {
  "kernelspec": {
   "display_name": "Python 3 (ipykernel)",
   "language": "python",
   "name": "python3"
  },
  "language_info": {
   "codemirror_mode": {
    "name": "ipython",
    "version": 3
   },
   "file_extension": ".py",
   "mimetype": "text/x-python",
   "name": "python",
   "nbconvert_exporter": "python",
   "pygments_lexer": "ipython3",
   "version": "3.11.7"
  }
 },
 "nbformat": 4,
 "nbformat_minor": 5
}
