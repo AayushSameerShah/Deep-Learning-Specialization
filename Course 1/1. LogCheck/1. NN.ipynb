{
 "cells": [
  {
   "cell_type": "markdown",
   "id": "52c1eac7-9cfb-4a89-a293-36ed8d105d9a",
   "metadata": {},
   "source": [
    "# Hey there! \n",
    "I love writing! It's been an amazing year -- of doing almost nothing. Now I am willing to ramp up my Deep Learning game -- but **noting everything down** is being a pain in the ass.\n",
    "\n",
    "But hey, this is exactly what helps me in the future -- when I want to re-read something -- it becomes handy to me. So, it's the thing that I need to keep doing as the routine.\n",
    "\n",
    "Now -- let's get started.\n",
    "\n",
    "---\n",
    "\n",
    "### The thing\n",
    "Actually, I will take some notes in OneNote and that screenshot will be added in this notebook -- that way everything will stay inside this notebook and OneNote will be ditched regardless.\n",
    "\n",
    "- THEORY: That will be consumed through lectures, some scribbles will be made in the note -- the rest is code which will come in this book.\n",
    "- CODE: The online available exercises will be done there.\n",
    "\n",
    "Let's keep going the clock is ticking."
   ]
  },
  {
   "cell_type": "markdown",
   "id": "73ffbc8e-d440-4eaa-8994-c9bdf47031a6",
   "metadata": {},
   "source": [
    "<img src=\"./images/nn-1.png\">"
   ]
  },
  {
   "cell_type": "markdown",
   "id": "d63c578c-4761-431a-8e4e-440f801df370",
   "metadata": {},
   "source": [
    "**Interpretation**:\n",
    "- The NN needs \"features\"\n",
    "- For house price prediction sort of the case, we will feed Age, Bedroom etc and they combined make another feature in the another layer.\n",
    "- But we **don't have to tell** the NN that make these -- it will **figure out** itself."
   ]
  },
  {
   "cell_type": "markdown",
   "id": "67044350-b575-4369-a9ea-17dffb55688e",
   "metadata": {},
   "source": [
    "<img src=\"./images/nn-2.png\">"
   ]
  },
  {
   "cell_type": "code",
   "execution_count": null,
   "id": "1fb1cc6c-4847-4a38-9468-cb9bc0476b62",
   "metadata": {},
   "outputs": [],
   "source": []
  }
 ],
 "metadata": {
  "kernelspec": {
   "display_name": "Python 3 (ipykernel)",
   "language": "python",
   "name": "python3"
  },
  "language_info": {
   "codemirror_mode": {
    "name": "ipython",
    "version": 3
   },
   "file_extension": ".py",
   "mimetype": "text/x-python",
   "name": "python",
   "nbconvert_exporter": "python",
   "pygments_lexer": "ipython3",
   "version": "3.11.7"
  }
 },
 "nbformat": 4,
 "nbformat_minor": 5
}
