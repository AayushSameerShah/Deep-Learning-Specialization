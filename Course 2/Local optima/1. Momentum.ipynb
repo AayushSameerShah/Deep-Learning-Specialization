{
 "cells": [
  {
   "cell_type": "markdown",
   "id": "7616c31c-a45a-41fd-91ec-2309a1cc1524",
   "metadata": {},
   "source": [
    "# The Momentum (Gradient Descent on (mild)-steroids)"
   ]
  },
  {
   "cell_type": "markdown",
   "id": "11387842-c1fa-4959-a939-1563027ba8dc",
   "metadata": {},
   "source": [
    "**What happens generally**:\n",
    "- We calculate gradients for each `Wd` \n",
    "- Then we perform the update $W = W - \\alpha \\cdot wd$\n",
    "- This generally will mean \"**the latest gradients matter the most**\" the past has no meaning... you know?\n",
    "\n",
    "That leads to 👇🏻\n",
    "\n",
    "<img src=\"./images/gradient-zig.png\">\n"
   ]
  },
  {
   "cell_type": "markdown",
   "id": "48a0ffc0-db37-4634-a6bc-fac3449cb35a",
   "metadata": {},
   "source": [
    "**What we want**:\n",
    "- Faster updates on the **horizontal aies** (just when we have 2 weights--in higher dimension it's not the case)\n",
    "- And slower updates on the **vertical axis** (again in 2D scenario)"
   ]
  },
  {
   "cell_type": "markdown",
   "id": "2e6356a9-95d9-42bd-8b59-ac1f67684354",
   "metadata": {},
   "source": [
    "### The Vanilla gradient:\n",
    "- Prevents you to use the **higher learning rate**\n",
    "- It will overshoot the step"
   ]
  },
  {
   "cell_type": "markdown",
   "id": "49cc9d40-ab4b-49f6-b170-69eb6f14c10f",
   "metadata": {},
   "source": [
    "## Momentum!\n",
    "\n",
    "- We keep the track of the gradients using EWMA\n",
    "- We give the weight to the past gradients\n",
    "- And **then** update"
   ]
  },
  {
   "cell_type": "markdown",
   "id": "e8d409a5-cc99-4ab1-8a18-75117e4d7472",
   "metadata": {},
   "source": [
    "<img src=\"./images/momentum-gd.png\">"
   ]
  },
  {
   "cell_type": "markdown",
   "id": "ef6e7385-685b-4d6f-b49b-c324500b88e1",
   "metadata": {},
   "source": [
    "Which leads to smoother stuff 👇🏻"
   ]
  },
  {
   "cell_type": "markdown",
   "id": "77d63881-c7c1-4f15-8e2d-24f0f020a4ff",
   "metadata": {},
   "source": [
    "<img src=\"./images/momentum.png\">"
   ]
  },
  {
   "cell_type": "markdown",
   "id": "1e0713dc-b5d8-4c8f-82bc-d3f3fb15add5",
   "metadata": {},
   "source": [
    "<img src=\"./images/momentum-text.png\">"
   ]
  },
  {
   "cell_type": "markdown",
   "id": "faee145d-42b0-44fb-ab8d-718d355b701d",
   "metadata": {},
   "source": [
    "# "
   ]
  }
 ],
 "metadata": {
  "kernelspec": {
   "display_name": "Python 3 (ipykernel)",
   "language": "python",
   "name": "python3"
  },
  "language_info": {
   "codemirror_mode": {
    "name": "ipython",
    "version": 3
   },
   "file_extension": ".py",
   "mimetype": "text/x-python",
   "name": "python",
   "nbconvert_exporter": "python",
   "pygments_lexer": "ipython3",
   "version": "3.11.7"
  }
 },
 "nbformat": 4,
 "nbformat_minor": 5
}
