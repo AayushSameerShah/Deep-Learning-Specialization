{
 "cells": [
  {
   "cell_type": "markdown",
   "id": "4562c02e-ff2c-4fa7-83d5-f3e87fe79dcd",
   "metadata": {},
   "source": [
    "# So, the initialization!?"
   ]
  },
  {
   "cell_type": "markdown",
   "id": "f4147bdd-bede-4429-b36e-6f794cf84a76",
   "metadata": {},
   "source": [
    "### Problem root\n",
    "\n",
    "- See, the problem is with when the **number of input features are huge** the model will have to make a series of $w_1 x_1 + w_2 x_2 + w_3 x_3 + \\cdots + w_n x_n$.\n",
    "- The higher the `n` is, the higher the chances of exploding or vanishing gradients become.\n",
    "\n",
    "### The obvious form of patch\n",
    "\n",
    "- Is to **see the number of `n`** and *adjust* the weights accordingly.\n",
    "- That has to do with some sort of variance stuff."
   ]
  },
  {
   "cell_type": "markdown",
   "id": "1d8b6b0f-490a-4f75-a2a7-17ea540bf061",
   "metadata": {},
   "source": [
    "## `1.` Variance\n",
    "\n",
    "$\\text{Variance} = \\frac{1}{n}$\n",
    "\n",
    "And then add in the data:\n",
    "\n",
    "$W^{[l]} = \\text{np.random.randn}(\\text{shape}) \\times \\sqrt{\\frac{1}{n^{[l-1]}}}$"
   ]
  },
  {
   "cell_type": "markdown",
   "id": "ccd3cffd-d9ef-4077-895d-178b0864df8d",
   "metadata": {},
   "source": [
    "## `2.` When the activation is ReLU\n",
    "\n",
    "$W^{[l]} = \\text{np.random.randn}(\\text{shape}) \\times \\sqrt{\\frac{2}{n^{[l-1]}}}$"
   ]
  },
  {
   "cell_type": "markdown",
   "id": "aa567f89-a3bb-447a-b7e0-9f7338d7e14c",
   "metadata": {},
   "source": [
    "## `3.` Xavier\n",
    "\n",
    "$W^{[l]} = \\text{np.random.randn}(\\text{shape}) \\times \\sqrt{\\frac{1}{n^{[l-1]}}}$\n",
    "\n",
    "OR\n",
    "\n",
    "$W^{[l]} = \\text{np.random.randn}(\\text{shape}) \\times \\sqrt{\\frac{2}{n^{[l-1]} + n^{[l]}}}$"
   ]
  },
  {
   "cell_type": "code",
   "execution_count": null,
   "id": "16637329-ed49-4863-84d8-0079c8df0c63",
   "metadata": {},
   "outputs": [],
   "source": []
  }
 ],
 "metadata": {
  "kernelspec": {
   "display_name": "Python 3 (ipykernel)",
   "language": "python",
   "name": "python3"
  },
  "language_info": {
   "codemirror_mode": {
    "name": "ipython",
    "version": 3
   },
   "file_extension": ".py",
   "mimetype": "text/x-python",
   "name": "python",
   "nbconvert_exporter": "python",
   "pygments_lexer": "ipython3",
   "version": "3.11.7"
  }
 },
 "nbformat": 4,
 "nbformat_minor": 5
}
