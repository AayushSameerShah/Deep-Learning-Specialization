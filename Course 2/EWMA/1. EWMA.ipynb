{
 "cells": [
  {
   "cell_type": "markdown",
   "id": "4bef8ea1-9473-4fc0-85c7-5c0bdbd5832a",
   "metadata": {},
   "source": [
    "# EWMA, just new things"
   ]
  },
  {
   "cell_type": "markdown",
   "id": "cb78b070-af51-49cb-a9df-fbfa80bbaae9",
   "metadata": {},
   "source": [
    "**General formulae**: $ \\beta v_{t-1} + (1 - \\beta)\\theta_t$"
   ]
  },
  {
   "cell_type": "markdown",
   "id": "678fc8ee-d9a6-4b63-9590-62a3e8787a89",
   "metadata": {},
   "source": [
    "### Now, $\\beta$ makes hwo many elements?\n",
    "\n",
    "A new formulae:\n",
    "\n",
    "$$ \\frac{1}{1 - \\beta} $$"
   ]
  },
  {
   "cell_type": "markdown",
   "id": "2b3ab95a-ed08-4498-a9b5-e86209d6686c",
   "metadata": {},
   "source": [
    "<img src=\"./images/img-1.png\">"
   ]
  },
  {
   "cell_type": "markdown",
   "id": "d6a9ac81-d69d-430b-82a1-8db046c5f831",
   "metadata": {},
   "source": [
    "# Bias Correction!\n",
    "\n",
    "This shit is real. Like **in the initial phase**.\n",
    "\n",
    "- When we are just starting out, our `v` term which stores the computation starts with `0`.\n",
    "- That slowly gets to the \"actual\" EWMA after some terms.\n",
    "- But at the **initial phase** it's not \"real\"\n",
    "\n",
    "To fix this, we use the bias correction. See the image."
   ]
  },
  {
   "cell_type": "markdown",
   "id": "53fffe8d-389b-4c2d-b6cc-853608da346b",
   "metadata": {},
   "source": [
    "<img src=\"./images/bias-correction-1.png\">"
   ]
  },
  {
   "cell_type": "markdown",
   "id": "639a97ab-fb21-4b22-975f-8537fa263748",
   "metadata": {},
   "source": [
    "<img src=\"./images/bias-correction-2.png\">"
   ]
  },
  {
   "cell_type": "markdown",
   "id": "3613a9dc-18ea-4639-bbc1-be2536ffecca",
   "metadata": {},
   "source": [
    "- This is \"added denominator\"\n",
    "- Initialliy it will be \"large\" making the corrected thing.\n",
    "- As the time passes `beta` will approach 0. And the denominator will become `~1`, leaving the regular formulae unchanged."
   ]
  },
  {
   "cell_type": "code",
   "execution_count": null,
   "id": "389edd61-47f9-45e7-9b0e-6f4dbf6b369c",
   "metadata": {},
   "outputs": [],
   "source": []
  }
 ],
 "metadata": {
  "kernelspec": {
   "display_name": "Python 3 (ipykernel)",
   "language": "python",
   "name": "python3"
  },
  "language_info": {
   "codemirror_mode": {
    "name": "ipython",
    "version": 3
   },
   "file_extension": ".py",
   "mimetype": "text/x-python",
   "name": "python",
   "nbconvert_exporter": "python",
   "pygments_lexer": "ipython3",
   "version": "3.11.7"
  }
 },
 "nbformat": 4,
 "nbformat_minor": 5
}
