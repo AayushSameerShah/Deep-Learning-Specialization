{
 "cells": [
  {
   "cell_type": "markdown",
   "id": "303f4fba-b202-487b-af3b-c1a288091c4a",
   "metadata": {},
   "source": [
    "# Let's do some learning rate decay!"
   ]
  },
  {
   "cell_type": "markdown",
   "id": "6415533b-3f9d-4bbf-a368-9cccb1a4fc76",
   "metadata": {},
   "source": [
    "![learning-rate-decay-andrew](./images/learning-rate-decay.gif)"
   ]
  },
  {
   "cell_type": "markdown",
   "id": "fc4b4ee7-9654-41ad-9bc6-2da11cf2562f",
   "metadata": {},
   "source": [
    "### 1. Time-based Decay (Inverse Time Decay)\n",
    "$$\n",
    "l_t = \\frac{l_0}{1 + \\text{decay_rate} \\times \\text{epoch_num}}\n",
    "$$\n",
    "- $l_t$ is the learning rate at time $t$ (or epoch $t$)\n",
    "- $l_0$ is the initial learning rate\n",
    "- $\\text{decay_rate}$ is the decay rate (a small positive constant)\n",
    "- $\\text{epoch_num}$ is the current epoch or iteration (starts from 1)\n",
    "\n",
    "<img src=\"./images/lr-decay-1.png\">"
   ]
  },
  {
   "cell_type": "markdown",
   "id": "ee793919-8f89-4895-bf5b-9582ed2f12e2",
   "metadata": {},
   "source": [
    "\n",
    "### 2. Step Decay\n",
    "$$\n",
    "l_t = l_0 \\times \\text{drop_rate}^{\\lfloor \\frac{t}{\\text{step_size}} \\rfloor}\n",
    "$$\n",
    "- Drops the learning rate by a factor of drop_rate every step_size epochs (like make half on each epoch)\n",
    "- $\\lfloor \\cdot \\rfloor$ is the floor function\n",
    "\n",
    "### 3. Exponential Decay\n",
    "$$\n",
    "l_t = l_0 \\times e^{-\\alpha t}\n",
    "$$\n",
    "- Learning rate decreases exponentially over time\n",
    "- $e$ is the base of the natural logarithm\n",
    "\n",
    "***\n",
    "\n",
    "### Intuition:\n",
    "\n",
    "- Learning rate decay allows training to start with a higher step size for faster progress,\n",
    "- then gradually lower the learning rate for finer convergence near the optimum, avoiding oscillations.\n",
    "\n",
    "This concept helps improve model optimization stability and generalization."
   ]
  }
 ],
 "metadata": {
  "kernelspec": {
   "display_name": "Python 3 (ipykernel)",
   "language": "python",
   "name": "python3"
  },
  "language_info": {
   "codemirror_mode": {
    "name": "ipython",
    "version": 3
   },
   "file_extension": ".py",
   "mimetype": "text/x-python",
   "name": "python",
   "nbconvert_exporter": "python",
   "pygments_lexer": "ipython3",
   "version": "3.11.7"
  }
 },
 "nbformat": 4,
 "nbformat_minor": 5
}
